{
 "cells": [
  {
   "cell_type": "code",
   "execution_count": 4,
   "id": "a931e9ed",
   "metadata": {},
   "outputs": [
    {
     "name": "stdout",
     "output_type": "stream",
     "text": [
      "Total data: 4827\n",
      "Label distribusi:\n",
      " label\n",
      "ROCKFALL    2101\n",
      "MP          1234\n",
      "VTA         1071\n",
      "GASBURST     306\n",
      "VTB          115\n",
      "Name: count, dtype: int64\n"
     ]
    }
   ],
   "source": [
    "import os\n",
    "import pandas as pd\n",
    "from sklearn.model_selection import train_test_split\n",
    "\n",
    "# Path manifest hasil cleaning\n",
    "manifest_path = r\"E:\\Skripsi\\DEC\\dataset\\ae-supervised-dataset\\cleaned-spectrograms\\manifest.csv\"\n",
    "\n",
    "# Output folder untuk split\n",
    "splits_root = r\"E:\\Skripsi\\DEC\\dataset\\ae-supervised-dataset\\split-spectograms\"\n",
    "os.makedirs(splits_root, exist_ok=True)\n",
    "\n",
    "# Load manifest\n",
    "df = pd.read_csv(manifest_path)\n",
    "print(\"Total data:\", len(df))\n",
    "print(\"Label distribusi:\\n\", df[\"label\"].value_counts())\n"
   ]
  },
  {
   "cell_type": "code",
   "execution_count": 5,
   "id": "3576399a",
   "metadata": {},
   "outputs": [
    {
     "name": "stdout",
     "output_type": "stream",
     "text": [
      "Train: 3861\n",
      "Test : 966\n",
      "Train/Test splits saved in: E:\\Skripsi\\DEC\\dataset\\ae-supervised-dataset\\split-spectograms\n"
     ]
    }
   ],
   "source": [
    "# Train-test split (80% train, 20% test)\n",
    "train_df, test_df = train_test_split(\n",
    "    df, test_size=0.2, stratify=df[\"label\"], random_state=42\n",
    ")\n",
    "\n",
    "print(\"Train:\", len(train_df))\n",
    "print(\"Test :\", len(test_df))\n",
    "\n",
    "train_df.to_csv(os.path.join(splits_root, \"train.csv\"), index=False)\n",
    "test_df.to_csv(os.path.join(splits_root, \"test.csv\"), index=False)\n",
    "\n",
    "print(\"Train/Test splits saved in:\", splits_root)"
   ]
  },
  {
   "cell_type": "code",
   "execution_count": 7,
   "id": "dc3be53e",
   "metadata": {},
   "outputs": [
    {
     "name": "stdout",
     "output_type": "stream",
     "text": [
      "\n",
      "Distribusi Train:\n",
      "label\n",
      "ROCKFALL    1680\n",
      "MP           987\n",
      "VTA          857\n",
      "GASBURST     245\n",
      "VTB           92\n",
      "Name: count, dtype: int64\n",
      "\n",
      "Distribusi Test:\n",
      "label\n",
      "ROCKFALL    421\n",
      "MP          247\n",
      "VTA         214\n",
      "GASBURST     61\n",
      "VTB          23\n",
      "Name: count, dtype: int64\n"
     ]
    }
   ],
   "source": [
    "print(\"\\nDistribusi Train:\")\n",
    "print(train_df[\"label\"].value_counts())\n",
    "print(\"\\nDistribusi Test:\")\n",
    "print(test_df[\"label\"].value_counts())\n"
   ]
  }
 ],
 "metadata": {
  "kernelspec": {
   "display_name": "envTA",
   "language": "python",
   "name": "python3"
  },
  "language_info": {
   "codemirror_mode": {
    "name": "ipython",
    "version": 3
   },
   "file_extension": ".py",
   "mimetype": "text/x-python",
   "name": "python",
   "nbconvert_exporter": "python",
   "pygments_lexer": "ipython3",
   "version": "3.10.0"
  }
 },
 "nbformat": 4,
 "nbformat_minor": 5
}
